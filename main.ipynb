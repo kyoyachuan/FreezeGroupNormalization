{
 "cells": [
  {
   "cell_type": "code",
   "execution_count": null,
   "metadata": {},
   "outputs": [],
   "source": [
    "from google.colab import drive\n",
    "drive.mount('/content/gdrive')"
   ]
  },
  {
   "cell_type": "code",
   "execution_count": null,
   "metadata": {},
   "outputs": [],
   "source": [
    "colab_googledrive_directory = \"/content/gdrive/My Drive/\"\n",
    "project_directory = 'FreezeGroupNormalization'"
   ]
  },
  {
   "cell_type": "code",
   "execution_count": null,
   "metadata": {},
   "outputs": [],
   "source": [
    "cd {colab_googledrive_directory}{project_directory}"
   ]
  },
  {
   "cell_type": "code",
   "execution_count": 1,
   "metadata": {
    "collapsed": true
   },
   "outputs": [
    {
     "name": "stdout",
     "output_type": "stream",
     "text": [
      "Collecting git+https://www.github.com/keras-team/keras-contrib.git (from -r requirements.txt (line 2))\n",
      "  Cloning https://www.github.com/keras-team/keras-contrib.git to /private/var/folders/5j/q5bp68wd31qcx89l933bc50c0000gn/T/pip-req-build-vvs5it2s\n",
      "  Running command git clone -q https://www.github.com/keras-team/keras-contrib.git /private/var/folders/5j/q5bp68wd31qcx89l933bc50c0000gn/T/pip-req-build-vvs5it2s\n",
      "Collecting wandb\n",
      "\u001b[?25l  Downloading https://files.pythonhosted.org/packages/64/6c/65d1230aa9bddc802d8def3373ed340ff0b0b405a176f30367b7a760db67/wandb-0.8.17-py2.py3-none-any.whl (1.3MB)\n",
      "\u001b[K     |████████████████████████████████| 1.3MB 717kB/s eta 0:00:01\n",
      "\u001b[?25hCollecting papermill\n",
      "  Using cached https://files.pythonhosted.org/packages/7f/67/338f08d7950c27d6cfe580cf4d1995600e368f584469cffb8d557fe51ab5/papermill-1.2.1-py2.py3-none-any.whl\n",
      "Collecting keras\n",
      "  Using cached https://files.pythonhosted.org/packages/ad/fd/6bfe87920d7f4fd475acd28500a42482b6b84479832bdc0fe9e589a60ceb/Keras-2.3.1-py2.py3-none-any.whl\n",
      "Processing /Users/chuan.chiew/Library/Caches/pip/wheels/68/39/1a/5e402bdfdf004af1786c8b853fd92f8c4a04f22aad179654d1/subprocess32-3.5.4-cp37-none-any.whl\n",
      "Collecting sentry-sdk>=0.4.0\n",
      "\u001b[?25l  Downloading https://files.pythonhosted.org/packages/1f/1c/4522e58cbd96e176e697dcc2fdaaf2ceac3412ca4e402f85acb265c9c385/sentry_sdk-0.13.4-py2.py3-none-any.whl (91kB)\n",
      "\u001b[K     |████████████████████████████████| 92kB 2.0MB/s eta 0:00:011\n",
      "\u001b[?25hCollecting graphql-core<3.0.0\n",
      "  Using cached https://files.pythonhosted.org/packages/6a/11/bc4a7eb440124271289d93e4d208bd07d94196038fabbe2a52435a07d3d3/graphql_core-2.2.1-py2.py3-none-any.whl\n",
      "Collecting docker-pycreds>=0.4.0\n",
      "  Using cached https://files.pythonhosted.org/packages/f5/e8/f6bd1eee09314e7e6dee49cbe2c5e22314ccdb38db16c9fc72d2fa80d054/docker_pycreds-0.4.0-py2.py3-none-any.whl\n",
      "Processing /Users/chuan.chiew/Library/Caches/pip/wheels/3f/eb/fd/69e5177f67b505e44acbd1aedfbe44b91768ee0c4cd5636576/shortuuid-0.5.0-cp37-none-any.whl\n",
      "Processing /Users/chuan.chiew/Library/Caches/pip/wheels/a7/8d/65/a3247f500d675d80a01e4d2f0ee44fe99f1faef575bc2a1664/gql-0.1.0-cp37-none-any.whl\n",
      "Collecting configparser>=3.8.1\n",
      "  Using cached https://files.pythonhosted.org/packages/7a/2a/95ed0501cf5d8709490b1d3a3f9b5cf340da6c433f896bbe9ce08dbe6785/configparser-4.0.2-py2.py3-none-any.whl\n",
      "Collecting psutil>=5.0.0\n",
      "\u001b[?25l  Downloading https://files.pythonhosted.org/packages/73/93/4f8213fbe66fc20cb904f35e6e04e20b47b85bee39845cc66a0bcf5ccdcb/psutil-5.6.7.tar.gz (448kB)\n",
      "\u001b[K     |████████████████████████████████| 450kB 1.6MB/s eta 0:00:01\n",
      "\u001b[?25hCollecting GitPython>=1.0.0\n",
      "\u001b[?25l  Downloading https://files.pythonhosted.org/packages/20/8c/4543981439d23c4ff65b2e62dddd767ebc84a8e664a9b67e840d1e2730d3/GitPython-3.0.5-py3-none-any.whl (455kB)\n",
      "\u001b[K     |████████████████████████████████| 460kB 2.1MB/s eta 0:00:01\n",
      "\u001b[?25hRequirement already satisfied: requests>=2.0.0 in /Users/chuan.chiew/miniconda/lib/python3.7/site-packages (from wandb->-r requirements.txt (line 1)) (2.22.0)\n",
      "Requirement already satisfied: six>=1.10.0 in /Users/chuan.chiew/miniconda/lib/python3.7/site-packages (from wandb->-r requirements.txt (line 1)) (1.12.0)\n",
      "Processing /Users/chuan.chiew/Library/Caches/pip/wheels/e4/1d/06/640c93f5270d67d0247f30be91f232700d19023f9e66d735c7/nvidia_ml_py3-7.352.0-cp37-none-any.whl\n",
      "Collecting python-dateutil>=2.6.1\n",
      "\u001b[?25l  Downloading https://files.pythonhosted.org/packages/d4/70/d60450c3dd48ef87586924207ae8907090de0b306af2bce5d134d78615cb/python_dateutil-2.8.1-py2.py3-none-any.whl (227kB)\n",
      "\u001b[K     |████████████████████████████████| 235kB 1.1MB/s eta 0:00:01\n",
      "\u001b[?25hCollecting Click>=7.0\n",
      "  Using cached https://files.pythonhosted.org/packages/fa/37/45185cb5abbc30d7257104c434fe0b07e5a195a6847506c074527aa599ec/Click-7.0-py2.py3-none-any.whl\n",
      "Processing /Users/chuan.chiew/Library/Caches/pip/wheels/61/1d/d0/04cfe495619be2095eb8d89a31c42adb4e42b76495bc8f784c/watchdog-0.9.0-cp37-cp37m-macosx_10_14_x86_64.whl\n",
      "Collecting nbconvert>=5.5\n",
      "  Using cached https://files.pythonhosted.org/packages/79/6c/05a569e9f703d18aacb89b7ad6075b404e8a4afde2c26b73ca77bb644b14/nbconvert-5.6.1-py2.py3-none-any.whl\n",
      "Collecting future\n",
      "\u001b[?25l  Downloading https://files.pythonhosted.org/packages/45/0b/38b06fd9b92dc2b68d58b75f900e97884c45bedd2ff83203d933cf5851c9/future-0.18.2.tar.gz (829kB)\n",
      "\u001b[K     |████████████████████████████████| 829kB 1.1MB/s eta 0:00:01\n",
      "\u001b[?25hCollecting jupyter-client\n",
      "  Using cached https://files.pythonhosted.org/packages/13/81/fe0eee1bcf949851a120254b1f530ae1e01bdde2d3ab9710c6ff81525061/jupyter_client-5.3.4-py2.py3-none-any.whl\n",
      "Collecting tenacity\n",
      "  Using cached https://files.pythonhosted.org/packages/bf/d4/8cab4b5239ddb62d950243abff9e88046bb61737ce3eee8694b3d748560c/tenacity-6.0.0-py2.py3-none-any.whl\n",
      "Collecting ansiwrap\n",
      "  Using cached https://files.pythonhosted.org/packages/03/50/43e775a63e0d632d9be3b3fa1c9b2cbaf3b7870d203655710a3426f47c26/ansiwrap-0.8.4-py2.py3-none-any.whl\n",
      "Requirement already satisfied: tqdm>=4.32.2 in /Users/chuan.chiew/miniconda/lib/python3.7/site-packages (from papermill->-r requirements.txt (line 3)) (4.36.1)\n",
      "Collecting nbformat\n",
      "  Using cached https://files.pythonhosted.org/packages/da/27/9a654d2b6cc1eaa517d1c5a4405166c7f6d72f04f6e7eea41855fe808a46/nbformat-4.4.0-py2.py3-none-any.whl\n",
      "Collecting pyyaml\n",
      "\u001b[?25l  Downloading https://files.pythonhosted.org/packages/8d/c9/e5be955a117a1ac548cdd31e37e8fd7b02ce987f9655f5c7563c656d5dcb/PyYAML-5.2.tar.gz (265kB)\n",
      "\u001b[K     |████████████████████████████████| 266kB 1.0MB/s eta 0:00:01\n",
      "\u001b[?25hCollecting entrypoints\n",
      "  Using cached https://files.pythonhosted.org/packages/ac/c6/44694103f8c221443ee6b0041f69e2740d89a25641e62fb4f2ee568f2f9c/entrypoints-0.3-py2.py3-none-any.whl\n",
      "Collecting keras-applications>=1.0.6\n",
      "  Using cached https://files.pythonhosted.org/packages/71/e3/19762fdfc62877ae9102edf6342d71b28fbfd9dea3d2f96a882ce099b03f/Keras_Applications-1.0.8-py3-none-any.whl\n",
      "Collecting scipy>=0.14\n",
      "\u001b[?25l  Downloading https://files.pythonhosted.org/packages/43/df/3f85a3a762e5dd8d593614288c1f86a5dfbb8b20071192e850d1a9934e7d/scipy-1.3.3-cp37-cp37m-macosx_10_6_intel.whl (27.7MB)\n",
      "\u001b[K     |████████████████████████████████| 27.7MB 1.9MB/s eta 0:00:01\n",
      "\u001b[?25hCollecting h5py\n",
      "  Using cached https://files.pythonhosted.org/packages/1a/8b/4d01ae9a9d50a0bcc7b0b9aae41785d8d9de6fa9bba04dc20b1582181d2d/h5py-2.10.0-cp37-cp37m-macosx_10_6_intel.whl\n",
      "Collecting numpy>=1.9.1\n",
      "\u001b[?25l  Downloading https://files.pythonhosted.org/packages/60/9a/a6b3168f2194fb468dcc4cf54c8344d1f514935006c3347ede198e968cb0/numpy-1.17.4-cp37-cp37m-macosx_10_9_x86_64.whl (15.1MB)\n",
      "\u001b[K     |████████████████████████████████| 15.1MB 2.5MB/s eta 0:00:01     |███████████                     | 5.1MB 3.9MB/s eta 0:00:03\n",
      "\u001b[?25hCollecting keras-preprocessing>=1.0.5\n",
      "  Using cached https://files.pythonhosted.org/packages/28/6a/8c1f62c37212d9fc441a7e26736df51ce6f0e38455816445471f10da4f0a/Keras_Preprocessing-1.1.0-py2.py3-none-any.whl\n",
      "Requirement already satisfied: certifi in /Users/chuan.chiew/miniconda/lib/python3.7/site-packages (from sentry-sdk>=0.4.0->wandb->-r requirements.txt (line 1)) (2019.9.11)\n",
      "Requirement already satisfied: urllib3>=1.10.0 in /Users/chuan.chiew/miniconda/lib/python3.7/site-packages (from sentry-sdk>=0.4.0->wandb->-r requirements.txt (line 1)) (1.24.2)\n",
      "Processing /Users/chuan.chiew/Library/Caches/pip/wheels/92/84/9f/75e2235effae0e1c5a5c0626a503e532bbffcb7e79e672b606/promise-2.2.1-cp37-none-any.whl\n",
      "Collecting rx<3,>=1.6\n",
      "  Using cached https://files.pythonhosted.org/packages/33/0f/5ef4ac78e2a538cc1b054eb86285fe0bf7a5dbaeaac2c584757c300515e2/Rx-1.6.1-py2.py3-none-any.whl\n",
      "Collecting gitdb2>=2.0.0\n",
      "  Using cached https://files.pythonhosted.org/packages/03/6c/99296f89bad2ef85626e1df9f677acbee8885bb043ad82ad3ed4746d2325/gitdb2-2.0.6-py2.py3-none-any.whl\n",
      "Requirement already satisfied: idna<2.9,>=2.5 in /Users/chuan.chiew/miniconda/lib/python3.7/site-packages (from requests>=2.0.0->wandb->-r requirements.txt (line 1)) (2.8)\n",
      "Requirement already satisfied: chardet<3.1.0,>=3.0.2 in /Users/chuan.chiew/miniconda/lib/python3.7/site-packages (from requests>=2.0.0->wandb->-r requirements.txt (line 1)) (3.0.4)\n",
      "Collecting argh>=0.24.1\n",
      "  Using cached https://files.pythonhosted.org/packages/06/1c/e667a7126f0b84aaa1c56844337bf0ac12445d1beb9c8a6199a7314944bf/argh-0.26.2-py2.py3-none-any.whl\n"
     ]
    },
    {
     "name": "stdout",
     "output_type": "stream",
     "text": [
      "Processing /Users/chuan.chiew/Library/Caches/pip/wheels/0b/04/79/c3b0c3a0266a3cb4376da31e5bfe8bba0c489246968a68e843/pathtools-0.1.2-cp37-none-any.whl\n",
      "Collecting mistune<2,>=0.8.1\n",
      "  Using cached https://files.pythonhosted.org/packages/09/ec/4b43dae793655b7d8a25f76119624350b4d65eb663459eb9603d7f1f0345/mistune-0.8.4-py2.py3-none-any.whl\n",
      "Collecting pygments\n",
      "\u001b[?25l  Downloading https://files.pythonhosted.org/packages/be/39/32da3184734730c0e4d3fa3b2b5872104668ad6dc1b5a73d8e477e5fe967/Pygments-2.5.2-py2.py3-none-any.whl (896kB)\n",
      "\u001b[K     |████████████████████████████████| 901kB 47.7MB/s eta 0:00:01\n",
      "\u001b[?25hCollecting defusedxml\n",
      "  Using cached https://files.pythonhosted.org/packages/06/74/9b387472866358ebc08732de3da6dc48e44b0aacd2ddaa5cb85ab7e986a2/defusedxml-0.6.0-py2.py3-none-any.whl\n",
      "Collecting jinja2>=2.4\n",
      "\u001b[?25l  Downloading https://files.pythonhosted.org/packages/65/e0/eb35e762802015cab1ccee04e8a277b03f1d8e53da3ec3106882ec42558b/Jinja2-2.10.3-py2.py3-none-any.whl (125kB)\n",
      "\u001b[K     |████████████████████████████████| 133kB 22.2MB/s eta 0:00:01\n",
      "\u001b[?25hCollecting testpath\n",
      "  Using cached https://files.pythonhosted.org/packages/1b/9e/1a170feaa54f22aeb5a5d16c9015e82234275a3c8ab630b552493f9cb8a9/testpath-0.4.4-py2.py3-none-any.whl\n",
      "Collecting jupyter-core\n",
      "  Using cached https://files.pythonhosted.org/packages/fb/82/86437f661875e30682e99d04c13ba6c216f86f5f6ca6ef212d3ee8b6ca11/jupyter_core-4.6.1-py2.py3-none-any.whl\n",
      "Collecting bleach\n",
      "  Using cached https://files.pythonhosted.org/packages/ab/05/27e1466475e816d3001efb6e0a85a819be17411420494a1e602c36f8299d/bleach-3.1.0-py2.py3-none-any.whl\n",
      "Processing /Users/chuan.chiew/Library/Caches/pip/wheels/39/01/56/f1b08a6275acc59e846fa4c1e1b65dbc1919f20157d9e66c20/pandocfilters-1.4.2-cp37-none-any.whl\n",
      "Collecting traitlets>=4.2\n",
      "\u001b[?25l  Downloading https://files.pythonhosted.org/packages/ca/ab/872a23e29cec3cf2594af7e857f18b687ad21039c1f9b922fac5b9b142d5/traitlets-4.3.3-py2.py3-none-any.whl (75kB)\n",
      "\u001b[K     |████████████████████████████████| 81kB 18.4MB/s eta 0:00:01\n",
      "\u001b[?25hCollecting pyzmq>=13\n",
      "  Using cached https://files.pythonhosted.org/packages/71/0e/ee7685d1340a4cc29fb64d164b5c5667122b2ec1a94cfc923adeef378116/pyzmq-18.1.1-cp37-cp37m-macosx_10_9_x86_64.whl\n",
      "Processing /Users/chuan.chiew/Library/Caches/pip/wheels/84/bf/40/2f6ef700f48401ca40e5e3dd7d0e3c0a90e064897b7fe5fc08/tornado-6.0.3-cp37-cp37m-macosx_10_14_x86_64.whl\n",
      "Collecting textwrap3>=0.9.2\n",
      "  Using cached https://files.pythonhosted.org/packages/77/9c/a53e561d496ee5866bbeea4d3a850b3b545ed854f8a21007c1e0d872e94d/textwrap3-0.9.2-py2.py3-none-any.whl\n",
      "Collecting jsonschema!=2.5.0,>=2.4\n",
      "\u001b[?25l  Downloading https://files.pythonhosted.org/packages/c5/8f/51e89ce52a085483359217bc72cdbf6e75ee595d5b1d4b5ade40c7e018b8/jsonschema-3.2.0-py2.py3-none-any.whl (56kB)\n",
      "\u001b[K     |████████████████████████████████| 61kB 13.8MB/s eta 0:00:01\n",
      "\u001b[?25hCollecting ipython-genutils\n",
      "  Using cached https://files.pythonhosted.org/packages/fa/bc/9bd3b5c2b4774d5f33b2d544f1460be9df7df2fe42f352135381c347c69a/ipython_genutils-0.2.0-py2.py3-none-any.whl\n",
      "Collecting smmap2>=2.0.0\n",
      "  Using cached https://files.pythonhosted.org/packages/55/d2/866d45e3a121ee15a1dc013824d58072fd5c7799c9c34d01378eb262ca8f/smmap2-2.0.5-py2.py3-none-any.whl\n",
      "Collecting MarkupSafe>=0.23\n",
      "  Using cached https://files.pythonhosted.org/packages/ce/c6/f000f1af136ef74e4a95e33785921c73595c5390403f102e9b231b065b7a/MarkupSafe-1.1.1-cp37-cp37m-macosx_10_6_intel.whl\n",
      "Collecting webencodings\n",
      "  Using cached https://files.pythonhosted.org/packages/f4/24/2a3e3df732393fed8b3ebf2ec078f05546de641fe1b667ee316ec1dcf3b7/webencodings-0.5.1-py2.py3-none-any.whl\n",
      "Collecting decorator\n",
      "  Downloading https://files.pythonhosted.org/packages/8f/b7/f329cfdc75f3d28d12c65980e4469e2fa373f1953f5df6e370e84ea2e875/decorator-4.4.1-py2.py3-none-any.whl\n",
      "Collecting pyrsistent>=0.14.0\n",
      "\u001b[?25l  Downloading https://files.pythonhosted.org/packages/6c/6f/c1a2e8da80a0029f6b618d7e20e1a6f2a61dd04e2e54225309c2cc4268f7/pyrsistent-0.15.6.tar.gz (107kB)\n",
      "\u001b[K     |████████████████████████████████| 112kB 31.2MB/s eta 0:00:01\n",
      "\u001b[?25hCollecting attrs>=17.4.0\n",
      "  Downloading https://files.pythonhosted.org/packages/a2/db/4313ab3be961f7a763066401fb77f7748373b6094076ae2bda2806988af6/attrs-19.3.0-py2.py3-none-any.whl\n",
      "Requirement already satisfied: setuptools in /Users/chuan.chiew/miniconda/lib/python3.7/site-packages (from jsonschema!=2.5.0,>=2.4->nbformat->papermill->-r requirements.txt (line 3)) (41.4.0)\n",
      "Collecting importlib-metadata; python_version < \"3.8\"\n",
      "  Downloading https://files.pythonhosted.org/packages/ed/82/ebece33bc20b9097683d09e47563d487e411e2cf3a37789d7ec0a88c4ce4/importlib_metadata-1.1.0-py2.py3-none-any.whl\n",
      "Collecting zipp>=0.5\n",
      "  Using cached https://files.pythonhosted.org/packages/74/3d/1ee25a26411ba0401b43c6376d2316a71addcc72ef8690b101b4ea56d76a/zipp-0.6.0-py2.py3-none-any.whl\n",
      "Collecting more-itertools\n",
      "\u001b[?25l  Downloading https://files.pythonhosted.org/packages/5c/1d/3df99de956abb96305956e09e6a1fa955883295e1f28808f9c97b3d5364d/more_itertools-8.0.0-py3-none-any.whl (40kB)\n",
      "\u001b[K     |████████████████████████████████| 40kB 10.4MB/s eta 0:00:01\n",
      "\u001b[?25hBuilding wheels for collected packages: keras-contrib, psutil, future, pyyaml, pyrsistent\n",
      "  Building wheel for keras-contrib (setup.py) ... \u001b[?25ldone\n",
      "\u001b[?25h  Created wheel for keras-contrib: filename=keras_contrib-2.0.8-cp37-none-any.whl size=101066 sha256=5c0c637d3d3c77d84915d3a5c243ddbc7ab842ee9e03b5b1b301053736b0c47e\n",
      "  Stored in directory: /private/var/folders/5j/q5bp68wd31qcx89l933bc50c0000gn/T/pip-ephem-wheel-cache-q4q8gipc/wheels/11/27/c8/4ed56de7b55f4f61244e2dc6ef3cdbaff2692527a2ce6502ba\n",
      "  Building wheel for psutil (setup.py) ... \u001b[?25ldone\n",
      "\u001b[?25h  Created wheel for psutil: filename=psutil-5.6.7-cp37-cp37m-macosx_10_9_x86_64.whl size=226724 sha256=005363ccfda6d55d150b03e632525d53d5917cf4ea5d84cd59c49d1ffea54812\n",
      "  Stored in directory: /Users/chuan.chiew/Library/Caches/pip/wheels/52/41/b0/bf50409fe2b1d3b79afa3eed71b54b3e30fe5b695db2c7ba2e\n",
      "  Building wheel for future (setup.py) ... \u001b[?25ldone\n",
      "\u001b[?25h  Created wheel for future: filename=future-0.18.2-cp37-none-any.whl size=491057 sha256=7ff31bad890ad99fa3c46a7d2614153052878229bb9040d17de21e214b069c3b\n",
      "  Stored in directory: /Users/chuan.chiew/Library/Caches/pip/wheels/8b/99/a0/81daf51dcd359a9377b110a8a886b3895921802d2fc1b2397e\n",
      "  Building wheel for pyyaml (setup.py) ... \u001b[?25ldone\n",
      "\u001b[?25h  Created wheel for pyyaml: filename=PyYAML-5.2-cp37-cp37m-macosx_10_9_x86_64.whl size=151473 sha256=436528b621197e6024c6aae15b3321cd38640d31091bef77122b6f853bdb66ac\n",
      "  Stored in directory: /Users/chuan.chiew/Library/Caches/pip/wheels/54/b7/c7/2ada654ee54483c9329871665aaf4a6056c3ce36f29cf66e67\n",
      "  Building wheel for pyrsistent (setup.py) ... \u001b[?25ldone\n",
      "\u001b[?25h  Created wheel for pyrsistent: filename=pyrsistent-0.15.6-cp37-cp37m-macosx_10_9_x86_64.whl size=68726 sha256=d0412a81f86a52725b2dfd667cf56ebc8f7d29635e1def75b3616f27faec6eaa\n",
      "  Stored in directory: /Users/chuan.chiew/Library/Caches/pip/wheels/83/89/d3/1712b9c33c9b9c0911b188a86aeff2a9a05e113f986cf79d92\n",
      "Successfully built keras-contrib psutil future pyyaml pyrsistent\n",
      "Installing collected packages: subprocess32, sentry-sdk, promise, rx, graphql-core, docker-pycreds, shortuuid, gql, configparser, psutil, smmap2, gitdb2, GitPython, nvidia-ml-py3, python-dateutil, Click, pyyaml, argh, pathtools, watchdog, wandb, mistune, pygments, defusedxml, MarkupSafe, jinja2, testpath, decorator, ipython-genutils, traitlets, pyrsistent, attrs, more-itertools, zipp, importlib-metadata, jsonschema, jupyter-core, nbformat, webencodings, bleach, pandocfilters, entrypoints, nbconvert, future, pyzmq, tornado, jupyter-client, tenacity, textwrap3, ansiwrap, papermill, numpy, h5py, keras-applications, scipy, keras-preprocessing, keras, keras-contrib\n",
      "Successfully installed Click-7.0 GitPython-3.0.5 MarkupSafe-1.1.1 ansiwrap-0.8.4 argh-0.26.2 attrs-19.3.0 bleach-3.1.0 configparser-4.0.2 decorator-4.4.1 defusedxml-0.6.0 docker-pycreds-0.4.0 entrypoints-0.3 future-0.18.2 gitdb2-2.0.6 gql-0.1.0 graphql-core-2.2.1 h5py-2.10.0 importlib-metadata-1.1.0 ipython-genutils-0.2.0 jinja2-2.10.3 jsonschema-3.2.0 jupyter-client-5.3.4 jupyter-core-4.6.1 keras-2.3.1 keras-applications-1.0.8 keras-contrib-2.0.8 keras-preprocessing-1.1.0 mistune-0.8.4 more-itertools-8.0.0 nbconvert-5.6.1 nbformat-4.4.0 numpy-1.17.4 nvidia-ml-py3-7.352.0 pandocfilters-1.4.2 papermill-1.2.1 pathtools-0.1.2 promise-2.2.1 psutil-5.6.7 pygments-2.5.2 pyrsistent-0.15.6 python-dateutil-2.8.1 pyyaml-5.2 pyzmq-18.1.1 rx-1.6.1 scipy-1.3.3 sentry-sdk-0.13.4 shortuuid-0.5.0 smmap2-2.0.5 subprocess32-3.5.4 tenacity-6.0.0 testpath-0.4.4 textwrap3-0.9.2 tornado-6.0.3 traitlets-4.3.3 wandb-0.8.17 watchdog-0.9.0 webencodings-0.5.1 zipp-0.6.0\n"
     ]
    }
   ],
   "source": [
    "!pip install -r requirements.txt"
   ]
  },
  {
   "cell_type": "code",
   "execution_count": null,
   "metadata": {},
   "outputs": [],
   "source": [
    "!wandb login"
   ]
  },
  {
   "cell_type": "code",
   "execution_count": 2,
   "metadata": {},
   "outputs": [],
   "source": [
    "# import packages\n",
    "import os\n",
    "import yaml\n",
    "from datetime import datetime\n",
    "\n",
    "import papermill as pm"
   ]
  },
  {
   "cell_type": "code",
   "execution_count": 7,
   "metadata": {},
   "outputs": [],
   "source": [
    "selections = [\n",
    "    'freezegroupnorm_128_32',\n",
    "    'freezegroupnorm_2_32'\n",
    "    'batchnorm_128', \n",
    "    'batchnorm_2', \n",
    "    'groupnorm_128_32',\n",
    "    'groupnorm_2_32',\n",
    "]"
   ]
  },
  {
   "cell_type": "code",
   "execution_count": 8,
   "metadata": {},
   "outputs": [],
   "source": [
    "with open('configs/example.yml', 'r') as f:\n",
    "    configs = yaml.safe_load(f)"
   ]
  },
  {
   "cell_type": "code",
   "execution_count": null,
   "metadata": {},
   "outputs": [],
   "source": [
    "for params in selections:\n",
    "    print(f\"Running {params} config\")\n",
    "\n",
    "    now = datetime.now().timestamp()\n",
    "    run_name = params + \"_\" + str(now)\n",
    "    \n",
    "    parameters = {\n",
    "        'MODULE': params.split('_')[0],\n",
    "        'NAME': run_name,\n",
    "        'BS': configs[params]['batch_size'],\n",
    "        'GS': configs[params]['group_size'],\n",
    "        'LR': configs[params]['learning_rate']\n",
    "    }\n",
    "\n",
    "    pm.execute_notebook(\n",
    "        input_path = 'train.ipynb',\n",
    "        output_path = 'notebooks/train_' + run_name + '.ipynb',\n",
    "        parameters = parameters\n",
    "    )"
   ]
  }
 ],
 "metadata": {
  "celltoolbar": "Tags",
  "kernelspec": {
   "display_name": "Python 3",
   "language": "python",
   "name": "python3"
  },
  "language_info": {
   "codemirror_mode": {
    "name": "ipython",
    "version": 3
   },
   "file_extension": ".py",
   "mimetype": "text/x-python",
   "name": "python",
   "nbconvert_exporter": "python",
   "pygments_lexer": "ipython3",
   "version": "3.7.4"
  }
 },
 "nbformat": 4,
 "nbformat_minor": 2
}
