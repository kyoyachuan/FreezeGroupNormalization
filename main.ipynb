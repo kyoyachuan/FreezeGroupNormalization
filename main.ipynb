{
 "cells": [
  {
   "cell_type": "code",
   "execution_count": null,
   "metadata": {},
   "outputs": [],
   "source": [
    "from google.colab import drive\n",
    "drive.mount('/content/gdrive')"
   ]
  },
  {
   "cell_type": "code",
   "execution_count": null,
   "metadata": {},
   "outputs": [],
   "source": [
    "local_googledrive = '/Users/<username>/Google Drive/'\n",
    "colab_googledrive_directory = \"/content/gdrive/My Drive/\"\n",
    "project_directory = 'git/colab-mlflow-papermill/'"
   ]
  },
  {
   "cell_type": "code",
   "execution_count": null,
   "metadata": {},
   "outputs": [],
   "source": [
    "cd {colab_googledrive_directory}{project_directory}"
   ]
  },
  {
   "cell_type": "code",
   "execution_count": null,
   "metadata": {},
   "outputs": [],
   "source": [
    "!pip install -r requirements.txt"
   ]
  },
  {
   "cell_type": "code",
   "execution_count": null,
   "metadata": {},
   "outputs": [],
   "source": [
    "# import packages\n",
    "import os\n",
    "import pandas as pd\n",
    "\n",
    "import papermill as pm"
   ]
  },
  {
   "cell_type": "code",
   "execution_count": null,
   "metadata": {},
   "outputs": [],
   "source": [
    "model_list = ['decision_tree', 'logistic_regression', 'svm']\n",
    "\n",
    "for model_name in model_list:\n",
    "    print(f\"Running {model_name!r} model\")\n",
    "\n",
    "    now = str(pd.to_datetime('now'))\n",
    "    notebook_out = f'{artefacts_temp_dir}/{model_name}-{now}.ipynb'\n",
    "    \n",
    "    parameters = {'model_name': model_name,\n",
    "              'notebook_out': notebook_out,\n",
    "              'artefacts_temp_dir': artefacts_temp_dir\n",
    "             }\n",
    "\n",
    "    pm.execute_notebook(\n",
    "        input_path = 'minion.ipynb',\n",
    "        output_path = notebook_out,\n",
    "        parameters = parameters\n",
    "    )"
   ]
  }
 ],
 "metadata": {
  "celltoolbar": "Tags",
  "kernelspec": {
   "display_name": "Python 3",
   "language": "python",
   "name": "python3"
  },
  "language_info": {
   "codemirror_mode": {
    "name": "ipython",
    "version": 3
   },
   "file_extension": ".py",
   "mimetype": "text/x-python",
   "name": "python",
   "nbconvert_exporter": "python",
   "pygments_lexer": "ipython3",
   "version": "3.7.4"
  }
 },
 "nbformat": 4,
 "nbformat_minor": 2
}
